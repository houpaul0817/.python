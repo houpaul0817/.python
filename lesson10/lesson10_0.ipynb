{
 "cells": [
  {
   "cell_type": "code",
   "execution_count": 1,
   "metadata": {},
   "outputs": [
    {
     "ename": "SyntaxError",
     "evalue": "invalid syntax (2749517473.py, line 20)",
     "output_type": "error",
     "traceback": [
      "\u001b[0;36m  Cell \u001b[0;32mIn[1], line 20\u001b[0;36m\u001b[0m\n\u001b[0;31m    file = open(\"台灣日射量.json\",encoding=\"utf-8\",mode=\"w\",newline=\"\") as file:\u001b[0m\n\u001b[0m                                                                   ^\u001b[0m\n\u001b[0;31mSyntaxError\u001b[0m\u001b[0;31m:\u001b[0m invalid syntax\n"
     ]
    }
   ],
   "source": [
    "# 請下載日射量json資料,存檔名稱為'台灣日射量.json'\n",
    "import requests\n",
    "from requests.exceptions import HTTPError,ConnectionError,Timeout\n",
    "\n",
    "try:\n",
    "    url = \"https://opendata.cwa.gov.tw/fileapi/v1/opendataapi/O-A0091-001?Authorization=rdec-key-123-45678-011121314&format=JSON\"\n",
    "    response = requests.get(url)\n",
    "    response.raise_for_status()\n",
    "    content = response.text\n",
    "    #print(content)\n",
    "except ConnectionError:\n",
    "    print(\"連線伺服器發生錯誤\")\n",
    "except Timeout:\n",
    "    print(\"伺服器忙碌,沒有回應\")\n",
    "except HTTPError:\n",
    "    print(\"伺服器回應連線錯誤\")\n",
    "except Exception:\n",
    "    print(\"不知名的錯誤\")\n",
    "else:\n",
    "    file = open(\"台灣日射量.json\",encoding=\"utf-8\",mode=\"w\",newline=\"\") as file:\n",
    "    file.write(content)\n",
    "    file.close()"
   ]
  },
  {
   "cell_type": "code",
   "execution_count": 2,
   "metadata": {},
   "outputs": [
    {
     "ename": "ModuleNotFoundError",
     "evalue": "No module named 'requests'",
     "output_type": "error",
     "traceback": [
      "\u001b[0;31m---------------------------------------------------------------------------\u001b[0m",
      "\u001b[0;31mModuleNotFoundError\u001b[0m                       Traceback (most recent call last)",
      "Cell \u001b[0;32mIn[2], line 2\u001b[0m\n\u001b[1;32m      1\u001b[0m \u001b[38;5;66;03m# 請下載日射量json資料,存檔名稱為'台灣日射量.json'\u001b[39;00m\n\u001b[0;32m----> 2\u001b[0m \u001b[38;5;28;01mimport\u001b[39;00m \u001b[38;5;21;01mrequests\u001b[39;00m\n\u001b[1;32m      3\u001b[0m \u001b[38;5;28;01mfrom\u001b[39;00m \u001b[38;5;21;01mrequests\u001b[39;00m\u001b[38;5;21;01m.\u001b[39;00m\u001b[38;5;21;01mexceptions\u001b[39;00m \u001b[38;5;28;01mimport\u001b[39;00m HTTPError,\u001b[38;5;167;01mConnectionError\u001b[39;00m,Timeout\n\u001b[1;32m      5\u001b[0m \u001b[38;5;28;01mtry\u001b[39;00m:\n",
      "\u001b[0;31mModuleNotFoundError\u001b[0m: No module named 'requests'"
     ]
    }
   ],
   "source": [
    "# 請下載日射量json資料,存檔名稱為'台灣日射量.json'\n",
    "import requests\n",
    "from requests.exceptions import HTTPError,ConnectionError,Timeout\n",
    "\n",
    "try:\n",
    "    url = \"https://opendata.cwa.gov.tw/fileapi/v1/opendataapi/O-A0091-001?Authorization=rdec-key-123-45678-011121314&format=JSON\"\n",
    "    response = requests.get(url)\n",
    "    response.raise_for_status()\n",
    "    content = response.text\n",
    "    #print(content)\n",
    "except ConnectionError:\n",
    "    print(\"連線伺服器發生錯誤\")\n",
    "except Timeout:\n",
    "    print(\"伺服器忙碌,沒有回應\")\n",
    "except HTTPError:\n",
    "    print(\"伺服器回應連線錯誤\")\n",
    "except Exception:\n",
    "    print(\"不知名的錯誤\")\n",
    "else:\n",
    "    with open(\"台灣日射量.json\",encoding=\"utf-8\",mode=\"w\",newline=\"\") as file:\n",
    "        file.write(content)\n",
    "    print(\"存檔完成\")"
   ]
  }
 ],
 "metadata": {
  "kernelspec": {
   "display_name": "Python 3",
   "language": "python",
   "name": "python3"
  },
  "language_info": {
   "codemirror_mode": {
    "name": "ipython",
    "version": 3
   },
   "file_extension": ".py",
   "mimetype": "text/x-python",
   "name": "python",
   "nbconvert_exporter": "python",
   "pygments_lexer": "ipython3",
   "version": "3.11.9"
  }
 },
 "nbformat": 4,
 "nbformat_minor": 2
}
