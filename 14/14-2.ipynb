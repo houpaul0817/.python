{
 "cells": [
  {
   "cell_type": "code",
   "execution_count": null,
   "metadata": {},
   "outputs": [],
   "source": [
    "5, 7"
   ]
  },
  {
   "cell_type": "code",
   "execution_count": null,
   "metadata": {},
   "outputs": [],
   "source": [
    "(5,7)"
   ]
  },
  {
   "cell_type": "code",
   "execution_count": 2,
   "metadata": {},
   "outputs": [
    {
     "data": {
      "text/plain": [
       "(5,)"
      ]
     },
     "execution_count": 2,
     "metadata": {},
     "output_type": "execute_result"
    }
   ],
   "source": [
    "(5,)\n"
   ]
  },
  {
   "cell_type": "code",
   "execution_count": 8,
   "metadata": {},
   "outputs": [
    {
     "data": {
      "text/plain": [
       "[1, 3, 5, 7, 9, 2, 4, 6, 8, 10]"
      ]
     },
     "execution_count": 8,
     "metadata": {},
     "output_type": "execute_result"
    }
   ],
   "source": [
    "list_a = [1,3,5,7,9]\n",
    "list_b = [2,4,6,8,10]\n",
    "list_a+list_b"
   ]
  },
  {
   "cell_type": "code",
   "execution_count": 9,
   "metadata": {},
   "outputs": [
    {
     "data": {
      "text/plain": [
       "array([ 4,  8, 11, 14, 18])"
      ]
     },
     "execution_count": 9,
     "metadata": {},
     "output_type": "execute_result"
    }
   ],
   "source": [
    "import numpy as np\n",
    "array_a = np.array([1, 3, 5, 7, 9])\n",
    "array_b = np.array([3, 5, 6, 7, 9])\n",
    "type(array_a)\n",
    "array_a + array_b"
   ]
  },
  {
   "cell_type": "code",
   "execution_count": 14,
   "metadata": {},
   "outputs": [
    {
     "data": {
      "text/plain": [
       "(2, (2, 3), 6)"
      ]
     },
     "execution_count": 14,
     "metadata": {},
     "output_type": "execute_result"
    }
   ],
   "source": [
    "import numpy as np\n",
    "l=[[1,2,3],[4,5,6]]\n",
    "array = np.array(l)\n",
    "array.ndim,array.shape,array.size,array.dtype"
   ]
  },
  {
   "cell_type": "code",
   "execution_count": null,
   "metadata": {},
   "outputs": [],
   "source": [
    "import numpy as np\n",
    "array = np.array(l)"
   ]
  },
  {
   "cell_type": "code",
   "execution_count": 15,
   "metadata": {},
   "outputs": [
    {
     "data": {
      "text/plain": [
       "array([[ 0.17241975, -0.43673543, -1.43944742, -2.99107207,  0.67020899],\n",
       "       [ 0.28937337, -0.09383265, -1.05899099, -0.13915928,  0.18368657],\n",
       "       [-0.57823698,  0.98492549,  0.6264112 , -0.13728984,  0.57571186],\n",
       "       [ 0.85788015, -0.61570903, -2.38453421,  0.17280922, -0.16332915],\n",
       "       [-0.70490683,  1.69681931,  3.20473052, -0.02421812, -1.02930552],\n",
       "       [ 0.48354713, -0.60241956, -0.09111449,  0.48092845,  0.50524049],\n",
       "       [-0.54150824, -0.07160479,  0.51960615, -0.54413826, -1.41942299],\n",
       "       [ 1.14237551, -0.04223566,  1.43376438,  0.13430374, -0.70547709],\n",
       "       [ 0.05051514,  0.12723485,  2.54915818,  0.06706434,  0.59054574],\n",
       "       [-1.80602302,  0.98190128, -0.08158276,  1.06192721, -0.64255882]])"
      ]
     },
     "execution_count": 15,
     "metadata": {},
     "output_type": "execute_result"
    }
   ],
   "source": [
    "import numpy as np\n",
    "np.random.randn(10,5)"
   ]
  },
  {
   "cell_type": "code",
   "execution_count": 48,
   "metadata": {},
   "outputs": [
    {
     "data": {
      "text/plain": [
       "array([[ 72,  85,  79,  94,  66],\n",
       "       [ 86,  95,  96,  66,  93],\n",
       "       [ 63,  73,  51,  57,  67],\n",
       "       [ 89,  96,  82,  92,  68],\n",
       "       [ 94,  76,  70,  74,  75],\n",
       "       [ 91,  94, 100,  73,  63],\n",
       "       [ 84,  92,  96,  88,  84],\n",
       "       [ 76,  97,  94,  72,  70],\n",
       "       [100,  82,  88,  62,  81],\n",
       "       [ 56,  85,  68,  78,  77],\n",
       "       [ 51,  75,  83,  76,  50],\n",
       "       [ 59,  76,  61,  92,  72],\n",
       "       [ 67,  76,  54,  72,  58],\n",
       "       [ 96,  90,  56,  76,  57],\n",
       "       [ 72,  96,  76,  66,  75],\n",
       "       [ 93,  91,  98,  78,  57],\n",
       "       [ 91,  73,  67,  84,  82],\n",
       "       [ 90,  88,  60,  86,  64],\n",
       "       [ 57,  89,  91,  71,  76],\n",
       "       [ 51,  57,  84,  73,  68],\n",
       "       [ 69,  86,  92,  75,  63],\n",
       "       [ 98,  58,  68,  58,  59],\n",
       "       [ 94,  72,  67,  87,  63],\n",
       "       [ 63,  89,  92,  61,  74],\n",
       "       [ 82,  85,  80,  74,  51],\n",
       "       [ 88,  56,  87,  93,  77],\n",
       "       [ 50,  95,  74,  76,  53],\n",
       "       [ 53,  74,  95,  92,  88],\n",
       "       [ 65,  54,  83,  55,  98],\n",
       "       [ 88,  91,  67,  84,  65],\n",
       "       [ 52,  85,  70,  57,  97],\n",
       "       [ 95,  66,  79,  78,  96],\n",
       "       [ 50,  67,  84,  57,  64],\n",
       "       [ 55,  67,  56,  67,  60],\n",
       "       [ 61,  98,  87,  77,  81],\n",
       "       [ 67,  51,  76,  57,  58],\n",
       "       [ 94,  50,  90,  59,  82],\n",
       "       [ 65,  76,  99,  78,  60],\n",
       "       [ 67,  97,  87,  50,  93],\n",
       "       [ 91,  63,  62,  99,  99],\n",
       "       [ 85,  63,  69,  69,  70],\n",
       "       [ 52,  68,  97,  87,  86],\n",
       "       [ 67,  51,  53,  71,  50],\n",
       "       [ 70,  85,  50,  61,  57],\n",
       "       [ 50,  92,  65,  92,  63],\n",
       "       [ 91,  68,  93,  56,  94],\n",
       "       [ 73,  74,  50,  82,  57],\n",
       "       [ 63,  84,  94,  67,  87],\n",
       "       [ 52,  65,  55,  93,  55],\n",
       "       [ 54,  62,  95,  86,  62]])"
      ]
     },
     "execution_count": 48,
     "metadata": {},
     "output_type": "execute_result"
    }
   ],
   "source": [
    "#50個學生,每個學生有5個分數(50-100)\n",
    "scores = np.random.randint(50,101,size=(50,5))\n",
    "scores"
   ]
  },
  {
   "cell_type": "code",
   "execution_count": 44,
   "metadata": {},
   "outputs": [
    {
     "data": {
      "text/plain": [
       "array([[ 85,  60,  73,  69,  66],\n",
       "       [ 98,  90,  83,  73,  90],\n",
       "       [ 94, 100,  85,  96,  89],\n",
       "       [ 56,  68,  79,  67,  78],\n",
       "       [ 97,  53,  79,  50,  71]])"
      ]
     },
     "execution_count": 44,
     "metadata": {},
     "output_type": "execute_result"
    }
   ],
   "source": [
    "# 第一個學生\n",
    "scores[0,:]\n",
    "# 前五個學生\n",
    "scores[:5,:]\n",
    "# 最後五個學生\n",
    "scores[-5:,:]"
   ]
  },
  {
   "cell_type": "code",
   "execution_count": null,
   "metadata": {},
   "outputs": [],
   "source": [
    "scores[:,0]"
   ]
  },
  {
   "cell_type": "code",
   "execution_count": null,
   "metadata": {},
   "outputs": [],
   "source": [
    "scores[:,1]"
   ]
  },
  {
   "cell_type": "code",
   "execution_count": 41,
   "metadata": {},
   "outputs": [
    {
     "data": {
      "text/plain": [
       "array([448, 378, 408, 306, 359, 336, 406, 365, 393, 377, 357, 352, 406,\n",
       "       416, 430, 394, 317, 352, 402, 340, 425, 452, 383, 386, 371, 411,\n",
       "       359, 364, 317, 340, 390, 355, 385, 338, 389, 346, 357, 310, 395,\n",
       "       340, 409, 381, 367, 352, 369, 353, 434, 464, 348, 350])"
      ]
     },
     "execution_count": 41,
     "metadata": {},
     "output_type": "execute_result"
    }
   ],
   "source": [
    "total=scores[:,0]+scores[:,1]+scores[:,2]+scores[:,3]+scores[:,4]\n",
    "total"
   ]
  },
  {
   "cell_type": "code",
   "execution_count": 49,
   "metadata": {},
   "outputs": [
    {
     "data": {
      "text/plain": [
       "np.int64(18683)"
      ]
     },
     "execution_count": 49,
     "metadata": {},
     "output_type": "execute_result"
    }
   ],
   "source": [
    "# 使用統計的方法\n",
    "np.sum(scores,axis=1)"
   ]
  },
  {
   "cell_type": "code",
   "execution_count": 51,
   "metadata": {},
   "outputs": [
    {
     "data": {
      "text/plain": [
       "array([79.2, 87.2, 62.2, 85.4, 77.8, 84.2, 88.8, 81.8, 82.6, 72.8, 67. ,\n",
       "       72. , 65.4, 75. , 77. , 83.4, 79.4, 77.6, 76.8, 66.6, 77. , 68.2,\n",
       "       76.6, 75.8, 74.4, 80.2, 69.6, 80.4, 71. , 79. , 72.2, 82.8, 64.4,\n",
       "       61. , 80.8, 61.8, 75. , 75.6, 78.8, 82.8, 71.2, 78. , 58.4, 64.6,\n",
       "       72.4, 80.4, 67.2, 79. , 64. , 71.8])"
      ]
     },
     "execution_count": 51,
     "metadata": {},
     "output_type": "execute_result"
    }
   ],
   "source": [
    "# 每個學生平均\n",
    "np.mean(scores,axis=1)"
   ]
  }
 ],
 "metadata": {
  "kernelspec": {
   "display_name": "Python 3",
   "language": "python",
   "name": "python3"
  },
  "language_info": {
   "codemirror_mode": {
    "name": "ipython",
    "version": 3
   },
   "file_extension": ".py",
   "mimetype": "text/x-python",
   "name": "python",
   "nbconvert_exporter": "python",
   "pygments_lexer": "ipython3",
   "version": "3.11.9"
  }
 },
 "nbformat": 4,
 "nbformat_minor": 2
}
