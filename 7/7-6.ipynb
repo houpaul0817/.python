{
 "cells": [
  {
   "cell_type": "code",
   "execution_count": 1,
   "metadata": {},
   "outputs": [],
   "source": [
    "def menu(wine:str, entree:str, dessert:str=\"奶昔\"):\n",
    "    print(f\"酒類{wine}\")\n",
    "    print(f\"主餐{entree}\")\n",
    "    print(f\"甜點{dessert}\")"
   ]
  },
  {
   "cell_type": "code",
   "execution_count": 2,
   "metadata": {},
   "outputs": [
    {
     "name": "stdout",
     "output_type": "stream",
     "text": [
      "酒類白酒\n",
      "主餐牛排\n",
      "甜點奶昔\n"
     ]
    }
   ],
   "source": [
    "menu('白酒',\"牛排\")"
   ]
  },
  {
   "cell_type": "code",
   "execution_count": 3,
   "metadata": {},
   "outputs": [
    {
     "name": "stdout",
     "output_type": "stream",
     "text": [
      "酒類白酒\n",
      "主餐牛排\n",
      "甜點蛋糕\n"
     ]
    }
   ],
   "source": [
    "menu('白酒',\"牛排\",dessert=\"蛋糕\")"
   ]
  }
 ],
 "metadata": {
  "kernelspec": {
   "display_name": "Python 3",
   "language": "python",
   "name": "python3"
  },
  "language_info": {
   "codemirror_mode": {
    "name": "ipython",
    "version": 3
   },
   "file_extension": ".py",
   "mimetype": "text/x-python",
   "name": "python",
   "nbconvert_exporter": "python",
   "pygments_lexer": "ipython3",
   "version": "3.11.9"
  }
 },
 "nbformat": 4,
 "nbformat_minor": 2
}
