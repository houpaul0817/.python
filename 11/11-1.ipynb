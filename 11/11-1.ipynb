{
 "cells": [
  {
   "cell_type": "code",
   "execution_count": null,
   "metadata": {},
   "outputs": [],
   "source": [
    "# 請下載日射量json資料,存檔名稱為'台灣日射量.json'\n",
    "import requests\n",
    "from requests.exceptions import HTTPError,ConnectionError,Timeout\n",
    "\n",
    "try:\n",
    "    url = \"https://opendata.cwa.gov.tw/fileapi/v1/opendataapi/O-A0091-001?Authorization=rdec-key-123-45678-011121314&format=JSON\"\n",
    "    response = requests.get(url)\n",
    "    response.raise_for_status()\n",
    "    content = response.text\n",
    "    #print(content)\n",
    "except ConnectionError:\n",
    "    print(\"連線伺服器發生錯誤\")\n",
    "except Timeout:\n",
    "    print(\"伺服器忙碌,沒有回應\")\n",
    "except HTTPError:\n",
    "    print(\"伺服器回應連線錯誤\")\n",
    "except Exception:"
   ]
  },
  {
   "cell_type": "code",
   "execution_count": null,
   "metadata": {},
   "outputs": [],
   "source": [
    "import io\n",
    "import json\n",
    "from pprint import pprint\n",
    "file = io.StringIO(content)\n",
    "#print(type(file))\n",
    "contents = json.load(file)"
   ]
  },
  {
   "cell_type": "code",
   "execution_count": null,
   "metadata": {},
   "outputs": [],
   "source": [
    "date:str = contents['cwaopendata']['sent']\n"
   ]
  },
  {
   "cell_type": "code",
   "execution_count": null,
   "metadata": {},
   "outputs": [],
   "source": [
    "\n",
    "stations:list = contents['cwaopendata']['dataset']['Station']\n",
    "pprint(stations)"
   ]
  },
  {
   "cell_type": "code",
   "execution_count": null,
   "metadata": {},
   "outputs": [],
   "source": [
    "class Station():\n",
    "    def __init__(self,name:str,weather:float):\n",
    "        self.name = name\n",
    "        self.weather = weather\n",
    "\n",
    "stations1:list = []\n",
    "for station in stations:\n",
    "    name:str = station['StationName']\n",
    "    weather:str = station['WeatherElement']['SolarRadiation']\n",
    "    station:Station = Station(name,float(weather))\n",
    "    stations1.append(station)\n",
    "\n",
    "stations1"
   ]
  },
  {
   "cell_type": "code",
   "execution_count": null,
   "metadata": {},
   "outputs": [],
   "source": [
    "#for station in stations:\n",
    "#    name:str = station['StationName']\n",
    "#    weather:str = station['WeatherElement']['SolarRadiation']\n",
    "#    print(name,weather)\n",
    "#    print(\"====================\")"
   ]
  }
 ],
 "metadata": {
  "language_info": {
   "name": "python"
  }
 },
 "nbformat": 4,
 "nbformat_minor": 2
}
