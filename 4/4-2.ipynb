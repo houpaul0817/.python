{
 "cells": [
  {
   "cell_type": "code",
   "execution_count": 6,
   "metadata": {},
   "outputs": [
    {
     "name": "stdout",
     "output_type": "stream",
     "text": [
      "學生分數為丁\n"
     ]
    }
   ],
   "source": [
    "# 90(含)~100(含)【優】\n",
    "# 80(含)~89(含)【甲】\n",
    "# 70(含)~79(含)【乙】\n",
    "# 60(含)~69(含)【丙】\n",
    "# 0(含)~59(含)【丁】\n",
    "\n",
    "score = int(input('請輸入學生分數:'))\n",
    "if score >=90:\n",
    "    grade='優'\n",
    "elif score >=80:\n",
    "    grade='甲'\n",
    "elif score >=70:\n",
    "    grade='乙'\n",
    "elif score >=60:\n",
    "    grade='丙'\n",
    "else:\n",
    "    grade='丁'\n",
    "print(f\"學生分數等極為{grade}\")"
   ]
  },
  {
   "cell_type": "code",
   "execution_count": null,
   "metadata": {},
   "outputs": [],
   "source": [
    "# 輸入金額\n",
    "# 10000打八折\n",
    "# 50000打八五折\n",
    "# 30000打九折\n",
    "# 1000打九五折\n",
    "import math\n",
    "money = int(input())\n",
    "if money<10000:\n",
    "    pay_money=money\n",
    "elif money<30000:\n",
    "    pay_money=money*0.95\n",
    "elif money<50000:\n",
    "    pay_money=money*0.9\n",
    "elif money<100000:\n",
    "    pay_money=money*0.85\n",
    "else:\n",
    "    pay_money=money*0.8\n",
    "print(f\"實付金額是:{math.ceil(pay_money)}\")"
   ]
  },
  {
   "cell_type": "code",
   "execution_count": 8,
   "metadata": {},
   "outputs": [
    {
     "name": "stdout",
     "output_type": "stream",
     "text": [
      "可考駕照\n"
     ]
    }
   ],
   "source": [
    "age=int(input())\n",
    "\n",
    "if not age < 18:\n",
    "    print(\"可考駕照\")\n",
    "else:\n",
    "    print(\"不可考駕照\")\n"
   ]
  }
 ],
 "metadata": {
  "kernelspec": {
   "display_name": "Python 3",
   "language": "python",
   "name": "python3"
  },
  "language_info": {
   "codemirror_mode": {
    "name": "ipython",
    "version": 3
   },
   "file_extension": ".py",
   "mimetype": "text/x-python",
   "name": "python",
   "nbconvert_exporter": "python",
   "pygments_lexer": "ipython3",
   "version": "3.11.9"
  }
 },
 "nbformat": 4,
 "nbformat_minor": 2
}
