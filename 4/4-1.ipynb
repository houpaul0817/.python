{
 "cells": [
  {
   "cell_type": "code",
   "execution_count": 33,
   "metadata": {},
   "outputs": [
    {
     "name": "stdout",
     "output_type": "stream",
     "text": [
      "不可考駕照\n",
      "不可考駕照\n",
      "不可考駕照\n"
     ]
    }
   ],
   "source": [
    "i=int(input(\"人數\"))\n",
    "for m in range(i):\n",
    "    age = int(input(\"年紀\"))\n",
    "    if age>=18:\n",
    "        print(\"可考駕照\")\n",
    "    else:\n",
    "        print(\"不可考駕照\")\n"
   ]
  },
  {
   "cell_type": "code",
   "execution_count": 43,
   "metadata": {},
   "outputs": [
    {
     "name": "stdout",
     "output_type": "stream",
     "text": [
      "學生分數是:300\n",
      "學生分數是:300\n",
      "學生分數是:2\n",
      "學生分數是:2\n",
      "學生分數是:35\n",
      "學生分數是:27\n",
      "學生分數是:24\n",
      "學生分數是:24\n",
      "學生分數是:118\n",
      "學生分數是:300\n",
      "學生分數是:300\n"
     ]
    }
   ],
   "source": [
    "# 最高300分\n",
    "# 加分?(y,n)\n",
    "# yes,總分+0.5%\n",
    "import math\n",
    "b=input(\"是否加分(y,n)\")\n",
    "i=int(input(\"人數\"))\n",
    "for m in range(i):\n",
    "    score = int(input(\"分數(最高300分)\"))\n",
    "    if b=='y':\n",
    "        score *=1.05\n",
    "        score =math.ceil(score)\n",
    "    else:\n",
    "        score==score\n",
    "        score =math.ceil(score)\n",
    "    if score>300:\n",
    "       score=300\n",
    "    print(f\"學生分數是:{score}\")\n"
   ]
  },
  {
   "cell_type": "code",
   "execution_count": 60,
   "metadata": {},
   "outputs": [],
   "source": [
    "import random\n",
    "a=random.randint(1,100)\n",
    "s=int(input())\n",
    "if s>a:\n",
    "    print(\"大於a\")\n",
    "if s<a:\n",
    "    print(\"小於a\")\n",
    "if s==a:\n",
    "    print(\"等於a\")"
   ]
  },
  {
   "cell_type": "code",
   "execution_count": 1,
   "metadata": {},
   "outputs": [
    {
     "name": "stdout",
     "output_type": "stream",
     "text": [
      "學生總分數是:3\n",
      "應用程式結束\n"
     ]
    }
   ],
   "source": [
    "#輸入學生分數,最高300分\n",
    "#要不要加分(y,n)\n",
    "#yes,總分加5%\n",
    "import math\n",
    "try:\n",
    "    score = int(input('請輸入學生分數(最高300分):'))\n",
    "except ValueError:\n",
    "    print(\"格式錯誤\")\n",
    "else:\n",
    "    is_add = input('學生是否符合加分條件?(y,n)')\n",
    "    if is_add == 'y':\n",
    "        score *= 1.05\n",
    "        score = math.ceil(score)\n",
    "\n",
    "    print(f'學生總分數是:{score}')\n",
    "print(\"應用程式結束\")"
   ]
  },
  {
   "cell_type": "code",
   "execution_count": 4,
   "metadata": {},
   "outputs": [
    {
     "name": "stdout",
     "output_type": "stream",
     "text": [
      "不知名的錯誤\n",
      "應用程式結束\n"
     ]
    }
   ],
   "source": [
    "#輸入學生分數,最高300分\n",
    "#要不要加分(y,n)\n",
    "#yes,總分加5%\n",
    "import math\n",
    "try:\n",
    "    score = int(input('請輸入學生分數(最高300分):'))\n",
    "    raise NameError\n",
    "except ValueError:\n",
    "    print(\"格式錯誤\")\n",
    "except Exception:\n",
    "    print(\"不知名的錯誤\")\n",
    "else:\n",
    "    is_add = input('學生是否符合加分條件?(y,n)')\n",
    "    if is_add == 'y':\n",
    "        score *= 1.05\n",
    "        score = math.ceil(score)\n",
    "\n",
    "    print(f'學生總分數是:{score}')\n",
    "print(\"應用程式結束\")"
   ]
  },
  {
   "cell_type": "code",
   "execution_count": null,
   "metadata": {},
   "outputs": [],
   "source": [
    "#輸入學生分數,最高300分\n",
    "#要不要加分(y,n)\n",
    "#yes,總分加5%\n",
    "import math\n",
    "try:\n",
    "    score = int(input('請輸入學生分數(最高300分):'))\n",
    "    if score > 300:\n",
    "        raise Exception\n",
    "    if score < 0:\n",
    "        raise Exception\n",
    "except ValueError:\n",
    "    print(\"格式錯誤\")\n",
    "except Exception:\n",
    "    print(\"超出範圍\")\n",
    "else:\n",
    "    is_add = input('學生是否符合加分條件?(y,n)')\n",
    "    if is_add == 'y':\n",
    "        score *= 1.05\n",
    "        score = math.ceil(score)\n",
    "\n",
    "    print(f'學生總分數是:{score}')\n",
    "print(\"應用程式結束\")"
   ]
  }
 ],
 "metadata": {
  "kernelspec": {
   "display_name": "Python 3",
   "language": "python",
   "name": "python3"
  },
  "language_info": {
   "codemirror_mode": {
    "name": "ipython",
    "version": 3
   },
   "file_extension": ".py",
   "mimetype": "text/x-python",
   "name": "python",
   "nbconvert_exporter": "python",
   "pygments_lexer": "ipython3",
   "version": "3.11.9"
  }
 },
 "nbformat": 4,
 "nbformat_minor": 2
}
