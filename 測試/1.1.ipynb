{
 "cells": [
  {
   "cell_type": "code",
   "execution_count": null,
   "metadata": {},
   "outputs": [],
   "source": [
    "class BMI():\n",
    "    def __init__(self,n:str,h:int,w:int):\n",
    "    self.name = n\n",
    "    self.hight = h\n",
    "    self.weight = w\n",
    "\n",
    "while True:\n",
    "    try:\n",
    "        n = input(\"請輸入姓名: \")\n",
    "        h = float(input('請輸入身高（cm）: '))\n",
    "        w = float(input('請輸入體重（kg）: '))\n",
    "        #這裏建立一個BMI的實體\n",
    "\n",
    "    def average(self)->float:\n",
    "        return self.sum() / 2.0\n",
    "\n",
    "    except ValueError:\n",
    "        print(\"格式錯誤，請重新輸入數據\")\n",
    "        continue\n",
    "\n",
    "    stuff = input(\"請問是否繼續輸入資料 ('q': 離開, 任意鍵: 繼續)? \")\n",
    "\n",
    "    if stuff == 'q':\n",
    "        break\n",
    "\n",
    "print(\"應用程式結束\")"
   ]
  }
 ],
 "metadata": {
  "language_info": {
   "name": "python"
  }
 },
 "nbformat": 4,
 "nbformat_minor": 2
}
