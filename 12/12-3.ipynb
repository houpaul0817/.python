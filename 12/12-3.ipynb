{
 "cells": [
  {
   "cell_type": "code",
   "execution_count": 3,
   "metadata": {},
   "outputs": [],
   "source": [
    "import requests\n",
    "from requests import Response\n",
    "youbike_url = 'https://tcgbusfs.blob.core.windows.net/dotapp/youbike/v2/youbike_immediate.json'\n",
    "try:\n",
    "    respons:Response = requests.request('GET',youbike_url)\n",
    "    respons.raise_for_status()\n",
    "except Exception:\n",
    "    print(\"下載錯誤\")\n",
    "else:\n",
    "    content = respons.text"
   ]
  },
  {
   "cell_type": "code",
   "execution_count": 2,
   "metadata": {},
   "outputs": [
    {
     "ename": "ModuleNotFoundError",
     "evalue": "No module named 'pydantic'",
     "output_type": "error",
     "traceback": [
      "\u001b[0;31m---------------------------------------------------------------------------\u001b[0m",
      "\u001b[0;31mModuleNotFoundError\u001b[0m                       Traceback (most recent call last)",
      "Cell \u001b[0;32mIn[2], line 1\u001b[0m\n\u001b[0;32m----> 1\u001b[0m \u001b[38;5;28;01mfrom\u001b[39;00m \u001b[38;5;21;01mpydantic\u001b[39;00m \u001b[38;5;28;01mimport\u001b[39;00m BaseModel, RootModel, Field\n\u001b[1;32m      2\u001b[0m \u001b[38;5;28;01mfrom\u001b[39;00m \u001b[38;5;21;01mpprint\u001b[39;00m \u001b[38;5;28;01mimport\u001b[39;00m pprint\n\u001b[1;32m      4\u001b[0m \u001b[38;5;66;03m#使用自訂的Fields的名稱\u001b[39;00m\n",
      "\u001b[0;31mModuleNotFoundError\u001b[0m: No module named 'pydantic'"
     ]
    }
   ],
   "source": [
    "from pydantic import BaseModel, RootModel, Field\n",
    "from pprint import pprint\n",
    "\n",
    "#使用自訂的Fields的名稱\n",
    "class Station(BaseModel):\n",
    "    站名:str = Field(alias='sna')\n",
    "    行政區:str = Field(alias='sarea')\n",
    "    日期:str = Field(alias='mday')\n",
    "    地址:str = Field(alias='ar')\n",
    "    狀態:str = Field(alias='act')\n",
    "    總車輛數:int = Field(alias='total')\n",
    "    可借:int = Field(alias='available_rent_bikes')\n",
    "    可還:int = Field(alias='available_return_bikes')\n",
    "\n",
    "class Youbikes(RootModel):\n",
    "    root:list[Station]\n",
    "\n",
    "youbikes:Youbikes = Youbikes.model_validate_json(content)\n",
    "youbikes_list = youbikes.model_dump()\n",
    "pprint(youbikes_list)"
   ]
  },
  {
   "cell_type": "code",
   "execution_count": null,
   "metadata": {},
   "outputs": [],
   "source": []
  },
  {
   "cell_type": "code",
   "execution_count": 4,
   "metadata": {},
   "outputs": [
    {
     "ename": "NameError",
     "evalue": "name 'youbikes_list' is not defined",
     "output_type": "error",
     "traceback": [
      "\u001b[0;31m---------------------------------------------------------------------------\u001b[0m",
      "\u001b[0;31mNameError\u001b[0m                                 Traceback (most recent call last)",
      "Cell \u001b[0;32mIn[4], line 1\u001b[0m\n\u001b[0;32m----> 1\u001b[0m \u001b[38;5;28;01mfor\u001b[39;00m item \u001b[38;5;129;01min\u001b[39;00m \u001b[43myoubikes_list\u001b[49m:\n\u001b[1;32m      2\u001b[0m     pprint(item,indent\u001b[38;5;241m=\u001b[39m\u001b[38;5;241m2\u001b[39m)\n",
      "\u001b[0;31mNameError\u001b[0m: name 'youbikes_list' is not defined"
     ]
    }
   ],
   "source": [
    "for item in youbikes_list:\n",
    "    pprint(item,indent=2)"
   ]
  },
  {
   "cell_type": "code",
   "execution_count": null,
   "metadata": {},
   "outputs": [],
   "source": [
    "\n",
    "from datetime import datetime\n",
    "current = datetime.now()\n",
    "print (current.year)\n",
    "print (current.month)\n",
    "print (current.day)\n",
    "print (current.hour)\n",
    "print (current.minute)\n",
    "print (current.second)"
   ]
  }
 ],
 "metadata": {
  "kernelspec": {
   "display_name": "Python 3",
   "language": "python",
   "name": "python3"
  },
  "language_info": {
   "codemirror_mode": {
    "name": "ipython",
    "version": 3
   },
   "file_extension": ".py",
   "mimetype": "text/x-python",
   "name": "python",
   "nbconvert_exporter": "python",
   "pygments_lexer": "ipython3",
   "version": "3.11.9"
  }
 },
 "nbformat": 4,
 "nbformat_minor": 2
}
