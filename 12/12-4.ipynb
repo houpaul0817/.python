{
 "cells": [
  {
   "cell_type": "code",
   "execution_count": 8,
   "metadata": {},
   "outputs": [],
   "source": [
    "import requests\n",
    "from requests import Response\n",
    "youbike_url = 'https://tcgbusfs.blob.core.windows.net/dotapp/youbike/v2/youbike_immediate.json'\n",
    "try:\n",
    "    respons:Response = requests.request('GET',youbike_url)\n",
    "    respons.raise_for_status()\n",
    "except Exception:\n",
    "    print(\"下載錯誤\")\n",
    "else:\n",
    "    content = respons.text"
   ]
  },
  {
   "cell_type": "code",
   "execution_count": 9,
   "metadata": {},
   "outputs": [
    {
     "ename": "ModuleNotFoundError",
     "evalue": "No module named 'pydantic'",
     "output_type": "error",
     "traceback": [
      "\u001b[0;31m---------------------------------------------------------------------------\u001b[0m",
      "\u001b[0;31mModuleNotFoundError\u001b[0m                       Traceback (most recent call last)",
      "Cell \u001b[0;32mIn[9], line 1\u001b[0m\n\u001b[0;32m----> 1\u001b[0m \u001b[38;5;28;01mfrom\u001b[39;00m \u001b[38;5;21;01mpydantic\u001b[39;00m \u001b[38;5;28;01mimport\u001b[39;00m BaseModel, RootModel, Field,field_validator\n\u001b[1;32m      2\u001b[0m \u001b[38;5;28;01mfrom\u001b[39;00m \u001b[38;5;21;01mdatetime\u001b[39;00m \u001b[38;5;28;01mimport\u001b[39;00m datetime\n\u001b[1;32m      3\u001b[0m \u001b[38;5;28;01mfrom\u001b[39;00m \u001b[38;5;21;01mpprint\u001b[39;00m \u001b[38;5;28;01mimport\u001b[39;00m pprint\n",
      "\u001b[0;31mModuleNotFoundError\u001b[0m: No module named 'pydantic'"
     ]
    }
   ],
   "source": [
    "from pydantic import BaseModel, RootModel, Field,field_validator\n",
    "from datetime import datetime\n",
    "from pprint import pprint\n",
    "\n",
    "#使用自訂的Fields的名稱\n",
    "#轉換型別\n",
    "#自訂驗証\n",
    "\n",
    "class Station(BaseModel):\n",
    "    站名:str = Field(alias='sna')\n",
    "    行政區:str = Field(alias='sarea')\n",
    "    日期:datetime = Field(alias='mday')\n",
    "    地址:str = Field(alias='ar')\n",
    "    狀態:str = Field(alias='act')\n",
    "    總車輛數:int = Field(alias='total')\n",
    "    可借:int = Field(alias='available_rent_bikes')\n",
    "    可還:int = Field(alias='available_return_bikes')\n",
    "\n",
    "    @field_validator('站名')\n",
    "    @classmethod\n",
    "    def slice_str(cls,name:str):\n",
    "        return name[11:]\n",
    "    \n",
    "    @field_validator('狀態',mode='before')\n",
    "    @classmethod\n",
    "    def status_str(cls,status:str):\n",
    "        if status == \"1\":\n",
    "            return \"營業中\"\n",
    "        else:\n",
    "            return \"維護中\"\n",
    "\n",
    "class Youbikes(RootModel):\n",
    "    root:list[Station]\n",
    "\n",
    "youbikes:Youbikes = Youbikes.model_validate_json(content)\n",
    "youbikes_list = youbikes.model_dump()\n",
    "pprint(youbikes_list)"
   ]
  },
  {
   "cell_type": "code",
   "execution_count": 6,
   "metadata": {},
   "outputs": [
    {
     "name": "stdout",
     "output_type": "stream",
     "text": [
      "Y\n",
      "o\n",
      "u\n",
      "B\n",
      "i\n",
      "k\n",
      "e\n",
      "2\n",
      ".\n",
      "0\n",
      "_\n",
      "國\n",
      "北\n",
      "教\n",
      "大\n",
      "實\n",
      "小\n",
      "東\n",
      "側\n",
      "門\n"
     ]
    }
   ],
   "source": [
    "site_name = 'YouBike2.0_國北教大實小東側門'\n",
    "#str也是序列資料\n",
    "for character in site_name:\n",
    "    print(character)"
   ]
  },
  {
   "cell_type": "code",
   "execution_count": 5,
   "metadata": {},
   "outputs": [
    {
     "ename": "NameError",
     "evalue": "name 'site_name' is not defined",
     "output_type": "error",
     "traceback": [
      "\u001b[0;31m---------------------------------------------------------------------------\u001b[0m",
      "\u001b[0;31mNameError\u001b[0m                                 Traceback (most recent call last)",
      "Cell \u001b[0;32mIn[5], line 2\u001b[0m\n\u001b[1;32m      1\u001b[0m \u001b[38;5;66;03m#使用index\u001b[39;00m\n\u001b[0;32m----> 2\u001b[0m \u001b[38;5;28mprint\u001b[39m(\u001b[43msite_name\u001b[49m[\u001b[38;5;241m0\u001b[39m])\n\u001b[1;32m      3\u001b[0m \u001b[38;5;28mprint\u001b[39m(site_name[\u001b[38;5;241m-\u001b[39m\u001b[38;5;241m1\u001b[39m])\n",
      "\u001b[0;31mNameError\u001b[0m: name 'site_name' is not defined"
     ]
    }
   ],
   "source": [
    "\n",
    "#使用index\n",
    "print(site_name[0])\n",
    "print(site_name[-1])"
   ]
  },
  {
   "cell_type": "code",
   "execution_count": 4,
   "metadata": {},
   "outputs": [
    {
     "ename": "NameError",
     "evalue": "name 'site_name' is not defined",
     "output_type": "error",
     "traceback": [
      "\u001b[0;31m---------------------------------------------------------------------------\u001b[0m",
      "\u001b[0;31mNameError\u001b[0m                                 Traceback (most recent call last)",
      "Cell \u001b[0;32mIn[4], line 2\u001b[0m\n\u001b[1;32m      1\u001b[0m \u001b[38;5;66;03m#使用slice\u001b[39;00m\n\u001b[0;32m----> 2\u001b[0m \u001b[38;5;28mprint\u001b[39m(\u001b[43msite_name\u001b[49m[\u001b[38;5;241m0\u001b[39m:\u001b[38;5;241m7\u001b[39m])\n\u001b[1;32m      3\u001b[0m \u001b[38;5;28mprint\u001b[39m(site_name[:\u001b[38;5;241m7\u001b[39m])\n\u001b[1;32m      4\u001b[0m \u001b[38;5;28mprint\u001b[39m(site_name[\u001b[38;5;241m-\u001b[39m\u001b[38;5;241m9\u001b[39m:\u001b[38;5;241m-\u001b[39m\u001b[38;5;241m1\u001b[39m])\n",
      "\u001b[0;31mNameError\u001b[0m: name 'site_name' is not defined"
     ]
    }
   ],
   "source": [
    "\n",
    "#使用slice\n",
    "print(site_name[0:7])\n",
    "print(site_name[:7])\n",
    "print(site_name[-9:-1])\n",
    "print(site_name[-9:])"
   ]
  },
  {
   "cell_type": "code",
   "execution_count": 3,
   "metadata": {},
   "outputs": [
    {
     "ename": "NameError",
     "evalue": "name 'site_name' is not defined",
     "output_type": "error",
     "traceback": [
      "\u001b[0;31m---------------------------------------------------------------------------\u001b[0m",
      "\u001b[0;31mNameError\u001b[0m                                 Traceback (most recent call last)",
      "Cell \u001b[0;32mIn[3], line 1\u001b[0m\n\u001b[0;32m----> 1\u001b[0m \u001b[38;5;28mprint\u001b[39m(\u001b[43msite_name\u001b[49m[\u001b[38;5;241m11\u001b[39m:])\n",
      "\u001b[0;31mNameError\u001b[0m: name 'site_name' is not defined"
     ]
    }
   ],
   "source": [
    "\n",
    "print(site_name[11:])"
   ]
  },
  {
   "cell_type": "code",
   "execution_count": 2,
   "metadata": {},
   "outputs": [
    {
     "name": "stdout",
     "output_type": "stream",
     "text": [
      "臺大水源舍區C棟\n"
     ]
    }
   ],
   "source": [
    "\n",
    "site_name1 = 'YouBike2.0_臺大水源舍區C棟'\n",
    "print(site_name1[11:])"
   ]
  },
  {
   "cell_type": "code",
   "execution_count": 1,
   "metadata": {},
   "outputs": [
    {
     "name": "stdout",
     "output_type": "stream",
     "text": [
      "臺大水源舍區C棟\n"
     ]
    }
   ],
   "source": [
    "\n",
    "site_name1 = 'YouBike2.0_臺大水源舍區C棟'\n",
    "print(site_name1[11:])"
   ]
  },
  {
   "cell_type": "code",
   "execution_count": null,
   "metadata": {},
   "outputs": [],
   "source": []
  },
  {
   "cell_type": "code",
   "execution_count": null,
   "metadata": {},
   "outputs": [],
   "source": []
  },
  {
   "cell_type": "code",
   "execution_count": null,
   "metadata": {},
   "outputs": [],
   "source": []
  }
 ],
 "metadata": {
  "kernelspec": {
   "display_name": "Python 3",
   "language": "python",
   "name": "python3"
  },
  "language_info": {
   "codemirror_mode": {
    "name": "ipython",
    "version": 3
   },
   "file_extension": ".py",
   "mimetype": "text/x-python",
   "name": "python",
   "nbconvert_exporter": "python",
   "pygments_lexer": "ipython3",
   "version": "3.11.9"
  }
 },
 "nbformat": 4,
 "nbformat_minor": 2
}
