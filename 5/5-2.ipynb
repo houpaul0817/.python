{
 "cells": [
  {
   "cell_type": "code",
   "execution_count": 8,
   "metadata": {},
   "outputs": [
    {
     "name": "stdout",
     "output_type": "stream",
     "text": [
      "獎金:0\n"
     ]
    }
   ],
   "source": [
    "chinese = int(input(\"請輸入國文分數\"))\n",
    "math = int(input(\"請輸入數學分數\"))\n",
    "if chinese ==100:\n",
    "    if math ==100:\n",
    "        bonus=1000\n",
    "    else:\n",
    "        bonus=100\n",
    "else:\n",
    "    if math ==100:\n",
    "        bonus=500\n",
    "    else:\n",
    "        bonus=0\n",
    "print(f\"獎金:{bonus}\")\n",
    "\n",
    "\n",
    "\n",
    "    "
   ]
  },
  {
   "cell_type": "code",
   "execution_count": 9,
   "metadata": {},
   "outputs": [
    {
     "name": "stdout",
     "output_type": "stream",
     "text": [
      "獎金:0\n"
     ]
    }
   ],
   "source": [
    "chinese = int(input(\"請輸入國文分數\"))\n",
    "math = int(input(\"請輸入數學分數\"))\n",
    "if chinese and math ==100:\n",
    "    bonus=1000\n",
    "\n",
    "elif chinese==100 or math ==100:\n",
    "    bonus=500\n",
    "else:\n",
    "    bonus=0\n",
    "print(f\"獎金:{bonus}\")"
   ]
  },
  {
   "cell_type": "code",
   "execution_count": 10,
   "metadata": {},
   "outputs": [
    {
     "name": "stdout",
     "output_type": "stream",
     "text": [
      "血壓低標\n"
     ]
    }
   ],
   "source": [
    "presure=int(input(\"輸入血壓\"))\n",
    "if presure>=80 and presure<=120:\n",
    "    print(\"血壓正常\") \n",
    "elif presure>=120:\n",
    "    print(\"血壓超標\") \n",
    "elif presure<=80:\n",
    "    print(\"血壓低標\") "
   ]
  },
  {
   "cell_type": "code",
   "execution_count": 11,
   "metadata": {},
   "outputs": [
    {
     "name": "stdout",
     "output_type": "stream",
     "text": [
      "血壓不正常\n"
     ]
    }
   ],
   "source": [
    "presure=int(input(\"輸入血壓\"))\n",
    "if 80<=presure<=120:\n",
    "    print(\"血壓正常\") \n",
    "else:\n",
    "    print(\"血壓不正常\") "
   ]
  }
 ],
 "metadata": {
  "kernelspec": {
   "display_name": "Python 3",
   "language": "python",
   "name": "python3"
  },
  "language_info": {
   "codemirror_mode": {
    "name": "ipython",
    "version": 3
   },
   "file_extension": ".py",
   "mimetype": "text/x-python",
   "name": "python",
   "nbconvert_exporter": "python",
   "pygments_lexer": "ipython3",
   "version": "3.11.9"
  }
 },
 "nbformat": 4,
 "nbformat_minor": 2
}
