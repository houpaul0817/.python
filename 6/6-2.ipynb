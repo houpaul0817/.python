{
 "cells": [
  {
   "cell_type": "code",
   "execution_count": 15,
   "metadata": {},
   "outputs": [
    {
     "name": "stdout",
     "output_type": "stream",
     "text": [
      "你以存1個月,共存56556元\n"
     ]
    }
   ],
   "source": [
    "total=0\n",
    "month=0\n",
    "while total<30000:\n",
    "    month+=1\n",
    "    money=int(input(f\"你以存{total}元\"))\n",
    "    total += money\n",
    "print(f\"你以存{month}個月,共存{total}元\")"
   ]
  },
  {
   "cell_type": "code",
   "execution_count": 16,
   "metadata": {},
   "outputs": [
    {
     "name": "stdout",
     "output_type": "stream",
     "text": [
      "145522252\n",
      "應用程式結束\n"
     ]
    }
   ],
   "source": [
    "stuff = input(\"請輸入小寫英文[按q會退出]\")\n",
    "#print(type(stuff))\n",
    "while not stuff =='q':\n",
    "    print(stuff.capitalize())\n",
    "    stuff=input(\"請輸入小寫英文[按q會退出]\")\n",
    "print(\"應用程式結束\")    \n",
    "\n",
    "\n",
    "# stuff = input(\"請輸入小寫英文字[按q會離開]:\")\n",
    "# #print(type(stuff))\n",
    "# while not stuff == 'q':\n",
    "#     print(stuff.capitalize())\n",
    "#     stuff = input(\"請輸入小寫英文字[按q會離開]:\")\n",
    "# print(\"應用程式結束!\")"
   ]
  },
  {
   "cell_type": "code",
   "execution_count": 17,
   "metadata": {},
   "outputs": [
    {
     "name": "stdout",
     "output_type": "stream",
     "text": [
      "\n",
      "應用程式結束\n"
     ]
    }
   ],
   "source": [
    "\n",
    "#print(type(stuff))\n",
    "while True:\n",
    "    stuff = input(\"請輸入小寫英文[按q會退出]\")\n",
    "    if stuff=='q':\n",
    "        break\n",
    "    print(stuff.capitalize())\n",
    "print(\"應用程式結束\")    \n"
   ]
  },
  {
   "cell_type": "code",
   "execution_count": 18,
   "metadata": {},
   "outputs": [
    {
     "name": "stdout",
     "output_type": "stream",
     "text": [
      "應用程式結束!\n"
     ]
    }
   ],
   "source": [
    "#請輸入小寫的英文字串,將英文字第1個字變大寫\n",
    "#請輸入小寫英文字[按q會離開]:\n",
    "#taiwan輸出Taiwan\n",
    "\n",
    "\n",
    "#print(type(stuff))\n",
    "while True:\n",
    "    stuff = input(\"請輸入小寫英文字[按q會離開]:\")\n",
    "    if stuff == 'q':\n",
    "        break\n",
    "    else:\n",
    "        print(stuff.capitalize())\n",
    "        continue\n",
    "\n",
    "    print(\"沒用的程式\")\n",
    "    \n",
    "    \n",
    "print(\"應用程式結束!\")"
   ]
  },
  {
   "cell_type": "code",
   "execution_count": 3,
   "metadata": {},
   "outputs": [
    {
     "name": "stdout",
     "output_type": "stream",
     "text": [
      "1的bmi為10000.0,為重度肥胖\n",
      "應用程式結束\n"
     ]
    }
   ],
   "source": [
    "try:\n",
    "    name=str(input(\"請輸入姓名\"))\n",
    "    height=float(input('請輸入身高'))\n",
    "    weight=float(input('請輸入體重'))\n",
    "    bmi=weight/(((height*0.01))**2)\n",
    "    if bmi<18.5:\n",
    "        grade=\"體重過輕\"\n",
    "    elif bmi<24:\n",
    "        grade=\"正常範圍\"\n",
    "    elif bmi<27:\n",
    "        grade=\"過重\"\n",
    "    elif bmi<30:\n",
    "        grade=\"輕度肥胖\"\n",
    "    elif bmi<35:\n",
    "        grade=\"中度肥胖\"\n",
    "    elif bmi>=35:\n",
    "        grade=\"重度肥胖\"\n",
    "    print(f\"{name}的bmi為{bmi},為{grade}\")\n",
    "except ValueError:\n",
    "    print(\"格式錯誤\")\n",
    "else:\n",
    "    print(\"應用程式結束\")\n",
    "\t"
   ]
  }
 ],
 "metadata": {
  "kernelspec": {
   "display_name": "Python 3",
   "language": "python",
   "name": "python3"
  },
  "language_info": {
   "codemirror_mode": {
    "name": "ipython",
    "version": 3
   },
   "file_extension": ".py",
   "mimetype": "text/x-python",
   "name": "python",
   "nbconvert_exporter": "python",
   "pygments_lexer": "ipython3",
   "version": "3.11.9"
  }
 },
 "nbformat": 4,
 "nbformat_minor": 2
}
