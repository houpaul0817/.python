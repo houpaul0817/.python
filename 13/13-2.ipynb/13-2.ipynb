{
 "cells": [
  {
   "cell_type": "code",
   "execution_count": 34,
   "metadata": {},
   "outputs": [
    {
     "data": {
      "text/plain": [
       "[3, 6, 9, 12, 15]"
      ]
     },
     "execution_count": 34,
     "metadata": {},
     "output_type": "execute_result"
    }
   ],
   "source": [
    "values = [1, 2, 3, 4, 5]\n",
    "multiply = 3\n",
    "\n",
    "new_values = []\n",
    "for i in values:\n",
    "    new_values.append(i*multiply)\n",
    "\n",
    "new_values\n"
   ]
  },
  {
   "cell_type": "code",
   "execution_count": 35,
   "metadata": {},
   "outputs": [
    {
     "data": {
      "text/plain": [
       "[3, 6, 9, 12, 15]"
      ]
     },
     "execution_count": 35,
     "metadata": {},
     "output_type": "execute_result"
    }
   ],
   "source": [
    "values = [1, 2, 3, 4, 5]\n",
    "multiply = 3\n",
    "\n",
    "new_values = [i*multiply for i in values]\n",
    "new_values"
   ]
  },
  {
   "cell_type": "code",
   "execution_count": 40,
   "metadata": {},
   "outputs": [
    {
     "data": {
      "text/plain": [
       "array([ 3.14159, 12.56636, 28.27431, 50.26544, 78.53975])"
      ]
     },
     "execution_count": 40,
     "metadata": {},
     "output_type": "execute_result"
    }
   ],
   "source": [
    "import numpy as np\n",
    "values_array = np.array([1, 2, 3, 4, 5])\n",
    "multiply = 3\n",
    "values_array * multiply\n",
    "values_array ** 2 * 3.14159"
   ]
  },
  {
   "cell_type": "code",
   "execution_count": 37,
   "metadata": {},
   "outputs": [
    {
     "data": {
      "text/plain": [
       "array([ 3,  6,  9, 12, 15])"
      ]
     },
     "execution_count": 37,
     "metadata": {},
     "output_type": "execute_result"
    }
   ],
   "source": [
    "import numpy as np\n",
    "values_array = np.array([1,2,3,4,5])\n",
    "multiply = 3\n",
    "values_array * multiply\n"
   ]
  },
  {
   "cell_type": "code",
   "execution_count": 38,
   "metadata": {},
   "outputs": [
    {
     "data": {
      "text/plain": [
       "array([[65, 55, 71, 63, 55],\n",
       "       [80, 84, 88, 53, 52],\n",
       "       [69, 88, 79, 67, 99],\n",
       "       [65, 67, 52, 75, 57],\n",
       "       [80, 88, 51, 57, 99],\n",
       "       [78, 52, 73, 59, 88],\n",
       "       [95, 74, 92, 77, 50],\n",
       "       [66, 67, 75, 72, 71],\n",
       "       [82, 86, 86, 51, 59],\n",
       "       [86, 91, 56, 87, 80],\n",
       "       [60, 52, 97, 63, 61],\n",
       "       [90, 87, 79, 89, 80],\n",
       "       [50, 83, 86, 86, 83],\n",
       "       [56, 99, 68, 80, 83],\n",
       "       [71, 95, 94, 50, 74],\n",
       "       [92, 94, 92, 87, 96],\n",
       "       [56, 68, 91, 82, 73],\n",
       "       [87, 82, 70, 75, 93],\n",
       "       [64, 50, 57, 66, 69],\n",
       "       [79, 84, 77, 87, 73],\n",
       "       [96, 89, 55, 95, 75],\n",
       "       [83, 83, 61, 85, 61],\n",
       "       [74, 78, 58, 92, 60],\n",
       "       [82, 51, 52, 55, 99],\n",
       "       [57, 61, 82, 74, 70],\n",
       "       [60, 67, 63, 98, 52],\n",
       "       [56, 83, 58, 98, 87],\n",
       "       [88, 98, 72, 77, 52],\n",
       "       [59, 55, 99, 51, 57],\n",
       "       [97, 85, 55, 98, 77],\n",
       "       [94, 72, 99, 66, 86],\n",
       "       [64, 61, 89, 98, 97],\n",
       "       [50, 92, 74, 60, 65],\n",
       "       [56, 52, 73, 50, 70],\n",
       "       [83, 72, 50, 81, 92],\n",
       "       [64, 88, 65, 85, 63],\n",
       "       [57, 96, 81, 76, 87],\n",
       "       [53, 54, 61, 83, 50],\n",
       "       [62, 98, 54, 79, 84],\n",
       "       [80, 55, 83, 96, 65],\n",
       "       [60, 72, 85, 80, 72],\n",
       "       [51, 66, 59, 82, 78],\n",
       "       [68, 86, 83, 58, 88],\n",
       "       [99, 79, 93, 59, 66],\n",
       "       [91, 67, 90, 68, 66],\n",
       "       [76, 90, 67, 64, 83],\n",
       "       [59, 80, 77, 54, 81],\n",
       "       [62, 79, 93, 62, 53],\n",
       "       [56, 52, 99, 81, 67],\n",
       "       [93, 87, 65, 92, 57]])"
      ]
     },
     "execution_count": 38,
     "metadata": {},
     "output_type": "execute_result"
    }
   ],
   "source": [
    "import numpy as np \n",
    "np.random.randint(50,100,size=(50,5))"
   ]
  }
 ],
 "metadata": {
  "kernelspec": {
   "display_name": "Python 3",
   "language": "python",
   "name": "python3"
  },
  "language_info": {
   "codemirror_mode": {
    "name": "ipython",
    "version": 3
   },
   "file_extension": ".py",
   "mimetype": "text/x-python",
   "name": "python",
   "nbconvert_exporter": "python",
   "pygments_lexer": "ipython3",
   "version": "3.11.9"
  }
 },
 "nbformat": 4,
 "nbformat_minor": 2
}
