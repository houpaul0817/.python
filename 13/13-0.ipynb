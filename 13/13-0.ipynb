{
 "cells": [
  {
   "cell_type": "code",
   "execution_count": 3,
   "metadata": {},
   "outputs": [
    {
     "ename": "ModuleNotFoundError",
     "evalue": "No module named 'pydantic'",
     "output_type": "error",
     "traceback": [
      "\u001b[0;31m---------------------------------------------------------------------------\u001b[0m",
      "\u001b[0;31mModuleNotFoundError\u001b[0m                       Traceback (most recent call last)",
      "Cell \u001b[0;32mIn[3], line 4\u001b[0m\n\u001b[1;32m      2\u001b[0m \u001b[38;5;28;01mfrom\u001b[39;00m \u001b[38;5;21;01mrequests\u001b[39;00m \u001b[38;5;28;01mimport\u001b[39;00m Response\n\u001b[1;32m      3\u001b[0m \u001b[38;5;28;01mfrom\u001b[39;00m \u001b[38;5;21;01mpprint\u001b[39;00m \u001b[38;5;28;01mimport\u001b[39;00m pprint\n\u001b[0;32m----> 4\u001b[0m \u001b[38;5;28;01mfrom\u001b[39;00m \u001b[38;5;21;01mpydantic\u001b[39;00m \u001b[38;5;28;01mimport\u001b[39;00m BaseModel, RootModel, Field,field_validator, field_serializer\n\u001b[1;32m      5\u001b[0m \u001b[38;5;28;01mfrom\u001b[39;00m \u001b[38;5;21;01mdatetime\u001b[39;00m \u001b[38;5;28;01mimport\u001b[39;00m datetime\n\u001b[1;32m      7\u001b[0m \u001b[38;5;28;01mclass\u001b[39;00m \u001b[38;5;21;01mFactory\u001b[39;00m(BaseModel):\n",
      "\u001b[0;31mModuleNotFoundError\u001b[0m: No module named 'pydantic'"
     ]
    }
   ],
   "source": [
    "import requests\n",
    "from requests import Response\n",
    "from pprint import pprint\n",
    "from pydantic import BaseModel, RootModel, Field,field_validator, field_serializer\n",
    "from datetime import datetime\n",
    "\n",
    "class Factory(BaseModel):\n",
    "    名稱: str = Field(alias='organizer')\n",
    "    註冊號碼: str = Field(alias='no')\n",
    "    地址: str = Field(alias='address')\n",
    "    統編: str = Field(alias='tax_id_number')\n",
    "    緯度: float|None = Field(alias='wgs84ax') # Field 的資料類型可以設為 xxxx:float | None\n",
    "    經度: float|None = Field(alias='wgs84ay') # Field 的資料類型可以設為 xxxx:float | None\n",
    "    日期: datetime = Field(alias='date')\n",
    "    '''\n",
    "    @field_validator('緯度', '經度', mode='before') # 先自訂驗證\n",
    "    @classmethod\n",
    "    def validate_coordinates(cls, value:str)-> float | None:\n",
    "        if value == None:\n",
    "            return None\n",
    "        else:\n",
    "            return round(float(value), ndigits=5)\n",
    "    '''\n",
    "    @field_serializer('日期')\n",
    "    def date_serial(self, date: datetime) -> str:\n",
    "        return date.strftime(f'中華民國{date.year-1911}年%m月%d日 %H:%M:%S')\n",
    "    \n",
    "    @field_serializer('緯度','經度')\n",
    "    def dot_five(self,value:float | None) -> float | None:\n",
    "        if value == None:\n",
    "            return None\n",
    "        else:\n",
    "           return round(float(value), ndigits=5) \n",
    "\n",
    "    \n",
    "    \n",
    "class Companys(RootModel):\n",
    "    root: list[Factory]\n",
    "\n",
    "def main(content:str):\n",
    "    companys: Companys = Companys.model_validate_json(content)\n",
    "    companys_list = companys.model_dump()\n",
    "    pprint(companys_list)\n",
    "\n",
    "youbike_url = 'https://data.ntpc.gov.tw/api/datasets/c51d5111-c300-44c9-b4f1-4b28b9929ca2/json?size=1000'\n",
    "try:\n",
    "    respons:Response = requests.request('GET',youbike_url)\n",
    "    respons.raise_for_status()\n",
    "except Exception:\n",
    "    print(\"下載錯誤\")\n",
    "else:\n",
    "    content = respons.text\n",
    "    main(content)"
   ]
  }
 ],
 "metadata": {
  "kernelspec": {
   "display_name": "Python 3",
   "language": "python",
   "name": "python3"
  },
  "language_info": {
   "codemirror_mode": {
    "name": "ipython",
    "version": 3
   },
   "file_extension": ".py",
   "mimetype": "text/x-python",
   "name": "python",
   "nbconvert_exporter": "python",
   "pygments_lexer": "ipython3",
   "version": "3.11.9"
  }
 },
 "nbformat": 4,
 "nbformat_minor": 2
}
