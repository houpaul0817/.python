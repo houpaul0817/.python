{
 "cells": [
  {
   "cell_type": "code",
   "execution_count": null,
   "metadata": {},
   "outputs": [],
   "source": [
    "import os\n",
    "current_dir = os.getcwd()\n",
    "csv_dir = os.path.join(current_dir,'每日各站進出站人數')\n",
    "files_and_dirs = os.listdir(csv_dir)\n",
    "files_and_dirs"
   ]
  },
  {
   "cell_type": "code",
   "execution_count": null,
   "metadata": {},
   "outputs": [],
   "source": [
    "for filename in files_and_dirs:\n",
    "    if '每日各站進出站人數' in filename:\n",
    "        print(filename)"
   ]
  },
  {
   "cell_type": "code",
   "execution_count": null,
   "metadata": {},
   "outputs": [],
   "source": [
    "all_csv_files = [filename for filename in files_and_dirs if '每日各站進出站人數' in filename]"
   ]
  },
  {
   "cell_type": "code",
   "execution_count": null,
   "metadata": {},
   "outputs": [],
   "source": [
    "shorted_csv_files =shorted(all_csv_files)"
   ]
  },
  {
   "cell_type": "code",
   "execution_count": 1,
   "metadata": {},
   "outputs": [
    {
     "ename": "NameError",
     "evalue": "name 'sorted_and_files' is not defined",
     "output_type": "error",
     "traceback": [
      "\u001b[0;31m---------------------------------------------------------------------------\u001b[0m",
      "\u001b[0;31mNameError\u001b[0m                                 Traceback (most recent call last)",
      "Cell \u001b[0;32mIn[1], line 1\u001b[0m\n\u001b[0;32m----> 1\u001b[0m \u001b[38;5;28;01mfor\u001b[39;00m filename \u001b[38;5;129;01min\u001b[39;00m \u001b[43msorted_and_files\u001b[49m:\n\u001b[1;32m      2\u001b[0m \tabs_file\u001b[38;5;241m=\u001b[39mos\u001b[38;5;241m.\u001b[39mpath\u001b[38;5;241m.\u001b[39mjoin(csv_dirt,filename)\n\u001b[1;32m      3\u001b[0m \t\u001b[38;5;28mprint\u001b[39m(abs_filename)\n",
      "\u001b[0;31mNameError\u001b[0m: name 'sorted_and_files' is not defined"
     ]
    }
   ],
   "source": [
    "for filename in sorted_and_files:\n",
    "\tabs_file=os.path.join(csv_dirt,filename)\n",
    "\tprint(abs_filename)"
   ]
  },
  {
   "cell_type": "code",
   "execution_count": null,
   "metadata": {},
   "outputs": [],
   "source": [
    "\n",
    "all_csv_files = [filename for filename in files_and_dirs if '每日各站進出站人數' in filename]\n"
   ]
  },
  {
   "cell_type": "code",
   "execution_count": null,
   "metadata": {},
   "outputs": [],
   "source": [
    "sorted_csv_files = sorted(all_csv_files)"
   ]
  },
  {
   "cell_type": "code",
   "execution_count": null,
   "metadata": {},
   "outputs": [],
   "source": [
    "import pandas as pd\n",
    "import json\n",
    "\n",
    "def parse_data(filename):\n",
    "    df1 = pd.read_csv(filename)\n",
    "    df2 = df1.rename(columns={\"trnOpDate\":\"乘車日\",\n",
    "            \"staCode\":\"車站代碼\",\n",
    "            \"gateInComingCnt\":\"進站人數\",\n",
    "            \"gateOutGoingCnt\":\"出站人數\"})\n",
    "    with open('車站基本資料集.json',encoding='utf-8') as file:\n",
    "        json_data = json.load(file)\n",
    "        stations_info = pd.DataFrame(json_data,columns=['stationCode','stationName'])\n",
    "        stations_info = stations_info.astype({'stationCode':'int32'})\n",
    "    df3 = pd.merge(df2,stations_info,left_on='車站代碼',right_on='stationCode')\n",
    "    df4 = df3.rename(columns={'stationName':'車站名稱'})\n",
    "    df5 = df4.reindex(columns=['乘車日','車站名稱','進站人數','出站人數'])\n",
    "    df5['乘車日'] = pd.to_datetime(df5['乘車日'].astype(str))\n",
    "    return df5\n",
    "    \n",
    "\n",
    "    \n",
    "all_final_dfs = [] \n",
    "for filename in sorted_csv_files:\n",
    "    abs_filename = os.path.join(csv_dir,filename)\n",
    "    all_final_dfs.append(parse_data(abs_filename))\n",
    "df_done = pd.concat(all_final_dfs)\n",
    "df_done.info()"
   ]
  },
  {
   "cell_type": "code",
   "execution_count": null,
   "metadata": {},
   "outputs": [],
   "source": [
    "df_done1=df_done.set_index(\"乘車日\")\n",
    "df_done1"
   ]
  }
 ],
 "metadata": {
  "kernelspec": {
   "display_name": "Python 3",
   "language": "python",
   "name": "python3"
  },
  "language_info": {
   "codemirror_mode": {
    "name": "ipython",
    "version": 3
   },
   "file_extension": ".py",
   "mimetype": "text/x-python",
   "name": "python",
   "nbconvert_exporter": "python",
   "pygments_lexer": "ipython3",
   "version": "3.11.9"
  }
 },
 "nbformat": 4,
 "nbformat_minor": 2
}
