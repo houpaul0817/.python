{
 "cells": [
  {
   "cell_type": "code",
   "execution_count": 1,
   "metadata": {},
   "outputs": [
    {
     "ename": "ModuleNotFoundError",
     "evalue": "No module named 'yfinance'",
     "output_type": "error",
     "traceback": [
      "\u001b[0;31m---------------------------------------------------------------------------\u001b[0m",
      "\u001b[0;31mModuleNotFoundError\u001b[0m                       Traceback (most recent call last)",
      "Cell \u001b[0;32mIn[1], line 4\u001b[0m\n\u001b[1;32m      1\u001b[0m \u001b[38;5;66;03m#請產生2023年,以下金控公司,最高收盤價,最低收盤價,最高收盤價日期,最低收盤價日期\u001b[39;00m\n\u001b[1;32m      2\u001b[0m \u001b[38;5;66;03m#提示,max(),min(),idxmin(),idxmax()\u001b[39;00m\n\u001b[0;32m----> 4\u001b[0m \u001b[38;5;28;01mimport\u001b[39;00m \u001b[38;5;21;01myfinance\u001b[39;00m \u001b[38;5;28;01mas\u001b[39;00m \u001b[38;5;21;01myf\u001b[39;00m\n\u001b[1;32m      5\u001b[0m \u001b[38;5;28;01mimport\u001b[39;00m \u001b[38;5;21;01mpandas\u001b[39;00m \u001b[38;5;28;01mas\u001b[39;00m \u001b[38;5;21;01mpd\u001b[39;00m\n\u001b[1;32m      7\u001b[0m \u001b[38;5;28;01mdef\u001b[39;00m \u001b[38;5;21mcall\u001b[39m(s):\n",
      "\u001b[0;31mModuleNotFoundError\u001b[0m: No module named 'yfinance'"
     ]
    }
   ],
   "source": [
    "#請產生2023年,以下金控公司,最高收盤價,最低收盤價,最高收盤價日期,最低收盤價日期\n",
    "#提示,max(),min(),idxmin(),idxmax()\n",
    "\n",
    "import yfinance as yf\n",
    "import pandas as pd\n",
    "\n",
    "def call(s):\n",
    "    min = s.min()\n",
    "    max = s.max()\n",
    "    return pd.Series([max, min],index=['最高價','最低價'])\n",
    "\n",
    "#國泰金(2882.TW),新光金(2888.TW),中信金(2891.TW),台新金(2887.TW)\n",
    "all_data = {ticker:yf.download(ticker) for ticker in ['2882.TW','2888.TW','2891.TW','2887.TW']}\n",
    "\n",
    "all_data1 = {ticker:df['Adj Close'] for ticker,df in all_data.items()}\n",
    "prices_df = pd.DataFrame(all_data1)\n",
    "prices_df.columns = ['國泰金','新光金','中信金','台新金']\n",
    "prices_df1 = prices_df.dropna()\n",
    "prices_df1_2023 = prices_df1.loc['2023']\n",
    "prices_df1_2023\n",
    "\n",
    "# 取得最高價, 最低價 dataFrame\n",
    "df_high_low_value = prices_df1_2023.apply(call)\n",
    "\n",
    "# 取得最低價日期 series, 再轉成[最低價日期] dataFrame\n",
    "series_low_date = prices_df1_2023.idxmin()\n",
    "df_low_date = pd.DataFrame([series_low_date], index=['最低價日期']).astype(str)\n",
    "\n",
    "# 取得最高價日期 series, 再轉成[最高價日期] dataFrame\n",
    "series_high_date = prices_df1_2023.idxmax()\n",
    "df_high_date = pd.DataFrame([series_high_date], index=['最高價日期']).astype(str)\n",
    "\n",
    "#合併最後結果\n",
    "df_total = pd.concat([df_high_low_value, df_low_date, df_high_date], ignore_index=False)\n",
    "df_total"
   ]
  },
  {
   "cell_type": "code",
   "execution_count": 4,
   "metadata": {},
   "outputs": [
    {
     "ename": "TabError",
     "evalue": "inconsistent use of tabs and spaces in indentation (1531859830.py, line 9)",
     "output_type": "error",
     "traceback": [
      "\u001b[0;36m  Cell \u001b[0;32mIn[4], line 9\u001b[0;36m\u001b[0m\n\u001b[0;31m    min_date=s.idxmin()\u001b[0m\n\u001b[0m    ^\u001b[0m\n\u001b[0;31mTabError\u001b[0m\u001b[0;31m:\u001b[0m inconsistent use of tabs and spaces in indentation\n"
     ]
    }
   ],
   "source": [
    "def call(s):\n",
    "    max = s.max\n",
    "    max_date=s.idxmax()\n",
    "    max_year=max_date.year\n",
    "    max_month=max_date.month\n",
    "    max_day=max_date.day\n",
    "    max_str=f'{max}{max_year}-{max_month}-{max_day}'\n",
    "    min = s.min\n",
    "\tmin_date=s.idxmin()\n",
    "    min_year=min_date.year\n",
    "    min_month=min_date.month\n",
    "    min_day=min_date.day\n",
    "    max_str=f'{min}{min_year}-{min_month}-{main_day}'\n",
    "    return pd,Series([max_str,min_str],index=['最高價','最地價'])\n",
    "\n",
    "df_high_low_value = prices_df1_2053.apply(call)\n",
    "df_high_low_value"
   ]
  }
 ],
 "metadata": {
  "kernelspec": {
   "display_name": "Python 3",
   "language": "python",
   "name": "python3"
  },
  "language_info": {
   "codemirror_mode": {
    "name": "ipython",
    "version": 3
   },
   "file_extension": ".py",
   "mimetype": "text/x-python",
   "name": "python",
   "nbconvert_exporter": "python",
   "pygments_lexer": "ipython3",
   "version": "3.11.9"
  }
 },
 "nbformat": 4,
 "nbformat_minor": 2
}
